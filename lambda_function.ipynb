{
 "cells": [
  {
   "cell_type": "markdown",
   "metadata": {},
   "source": [
    "# Automated and Serverless API Scraping with Python and AWS: Get Data Sets on Aussie Residential Listings"
   ]
  },
  {
   "cell_type": "markdown",
   "metadata": {},
   "source": [
    "My goal in this project is to get data sets on Aussie residential listings by creating a Lambda function in Amazon Web Services (AWS) that runs on a schedule, collects data from the [Domain Application Programming Interface (API)](https://developer.domain.com.au/), and stores it in a Simple Storage Service (S3) bucket. I intend to use the data sets for data analysis and visualization, e.g. using [Tableau](https://www.tableau.com/en-au). \n",
    "\n",
    "You can find the Lambda script `lambda_function.py` stored in the file `lambda.zip`. In here, I explain and discuss the Python code used to create the Lambda function. "
   ]
  },
  {
   "cell_type": "markdown",
   "metadata": {},
   "source": [
    "## `lambda_function.py`"
   ]
  },
  {
   "cell_type": "markdown",
   "metadata": {},
   "source": [
    "To begin with, I imported the following modules:\n",
    "\n",
    "* `numpy` and `pandas` - for handling and storing of data pulled from the Domain API as a `DataFrame` object\n",
    "* `requests` - for sending `POST` requests to the Domain API and receive access token and data on property listings\n",
    "* `boto3` - for managing the S3 bucket assigned to store the data sets\n",
    "* `io.StringIO` - for handling the pulled data as an in-memory file-like object\n",
    "* `datetime.datetime` - for obtaining the current date and time "
   ]
  },
  {
   "cell_type": "code",
   "execution_count": null,
   "metadata": {},
   "outputs": [],
   "source": [
    "import numpy as np\n",
    "import pandas as pd\n",
    "import requests\n",
    "import boto3\n",
    "from io import StringIO\n",
    "from datetime import datetime"
   ]
  },
  {
   "cell_type": "markdown",
   "metadata": {},
   "source": [
    "I created a Python function `lambda_handler` with two inputs following the official [AWS documentation](https://docs.aws.amazon.com/lambda/latest/dg/python-programming-model-handler-types.html). Next, to get an access token from the Domain API, I created an AWS Systems Manager (SSM) low-level client to retrieve my `DomainClientID` and `DomainSecret` variables stored in the Parameter Store.   These parameters were provided by my Domain developer account."
   ]
  },
  {
   "cell_type": "code",
   "execution_count": null,
   "metadata": {},
   "outputs": [],
   "source": [
    "def lambda_handler(event, context):\n",
    "\n",
    "    ssm = boto3.client('ssm')\n",
    "    client_dict = ssm.get_parameter(Name='DomainClientID')\n",
    "    secret_dict = ssm.get_parameter(Name='DomainSecret')\n",
    "    \n",
    "    myclient_id = client_dict['Parameter']['Value']\n",
    "    mysecret = secret_dict['Parameter']['Value']\n",
    "    url = \"https://auth.domain.com.au/v1/connect/token\""
   ]
  },
  {
   "cell_type": "markdown",
   "metadata": {},
   "source": [
    "Then, I made a POST request to `url` to receive my access token."
   ]
  },
  {
   "cell_type": "code",
   "execution_count": null,
   "metadata": {},
   "outputs": [],
   "source": [
    "    data = {\n",
    "            \"client_id\" : myclient_id,\n",
    "            \"client_secret\" : mysecret,\n",
    "            \"grant_type\" : \"client_credentials\",\n",
    "            \"scope\" : \"api_listings_read\",\n",
    "            \"Content-Type\" : \"text/json\"\n",
    "        }\n",
    "\n",
    "        response = requests.post(url=url, data=data)\n",
    "        token=response.json()\n",
    "        access_token=token[\"access_token\"]\n",
    "        auth = {\"Authorization\":\"Bearer \"+access_token}"
   ]
  },
  {
   "cell_type": "markdown",
   "metadata": {},
   "source": [
    "I am interested in residential listings in the Australian Capital Territory (ACT) that are for sale. Since the API search results are only [limited to the first 1000 results](https://developer.domain.com.au/docs/apis/pkg_agents_listings/references/listings_detailedresidentialsearch), I made a [list of ACT suburbs](https://www.yellowpages.com.au/act/localities) which I later `for loop`ed and made `POST` request to the API endpoint. I assumed that by limiting the search query per suburb, the search results are unlikely to go beyond 1000.  "
   ]
  },
  {
   "cell_type": "code",
   "execution_count": null,
   "metadata": {},
   "outputs": [],
   "source": [
    "    url2 = \"https://api.domain.com.au/v1/listings/residential/_search\"\n",
    "\n",
    "        suburbs = [\n",
    "            'Acton', 'Ainslie','Amaroo', 'Aranda',\n",
    "            'Banks', 'Barton', 'Beard', 'Belconnen', 'Bonner', 'Bonython', 'Braddon', 'Bruce',\n",
    "            'Calwell', 'Campbell', 'Canberra', 'Canberra Airport', 'Capital Hill', 'Casey', 'Chapman', 'Charnwood', 'Chifley',\n",
    "            'Chisholm', 'Conder', 'Cook', 'Coombs', 'Coree', 'Cotter River',\n",
    "            'Deakin', 'Dickson', 'Downer', 'Duffy', 'Dunlop',\n",
    "            'Evatt',\n",
    "            'Fadden', 'Farrer', 'Fisher', 'Florey', 'Flynn', 'Forde', 'Forrest', 'Franklin', 'Fraser', 'Fyshwick',\n",
    "            'Garran', 'Gilmore', 'Giralang', 'Gordon', 'Gowrie', 'Greenway', 'Griffith', 'Gungahlin',\n",
    "            'Hackett', 'Hall', 'Harrison', 'Hawker', 'Higgins', 'Holder', 'Holt', 'Hughes', 'Hume', \n",
    "            'Isaacs', 'Isabella Plains', \n",
    "            'Jacka', 'Jervis Bay', \n",
    "            'Kaleen', 'Kambah', 'Kenny', 'Kingston', 'Kowen',\n",
    "            'Latham', 'Lawson', 'Lyneham', 'Lyons', \n",
    "            'Macarthur', 'Macgregor', 'Macquarie', 'Majura', 'Mawson', 'Mckellar', 'Melba', 'Mitchell', 'Monash', 'Moncrieff', \n",
    "            'Narrabundah', 'Ngunnawal', 'Nicholls',\n",
    "            'O\\'connor', 'O\\'malley', 'Oaks Estate', 'Oconnor', 'Omalley', 'Oxley', \n",
    "            'Paddys River', 'Page', 'Palmerston', 'Parkes', 'Pearce', 'Phillip', 'Pialligo', \n",
    "            'Red Hill', 'Reid', 'Richardson', 'Rivett', 'Russell', \n",
    "            'Scullin', 'Spence', 'Stirling', 'Stromlo', 'Symonston', \n",
    "            'Taylor', 'Tharwa', 'Theodore', 'Throsby', 'Torrens', 'Tuggeranong', 'Turner',\n",
    "            'Uriarra Village',\n",
    "            'Wanniassa', 'Waramanga', 'Watson', 'Weetangera', 'Weston', 'Weston Creek', 'Wright', \n",
    "            'Yarralumla'\n",
    "        ]"
   ]
  },
  {
   "cell_type": "markdown",
   "metadata": {},
   "source": [
    "The function `payload` provides the required parameters for the POST request at each ACT suburb. "
   ]
  },
  {
   "cell_type": "code",
   "execution_count": null,
   "metadata": {},
   "outputs": [],
   "source": [
    "    def payload(suburb):\n",
    "\n",
    "            params = {\n",
    "            #     \"pageNumber\": 0,\n",
    "                \"listingType\": \"Sale\",\n",
    "            #     \"propertyTypes\": [\n",
    "            #         \"House\",\n",
    "            #         \"NewApartments\"\n",
    "            #     ],\n",
    "            #     \"propertyFeatures\": [\n",
    "            #         \"AirConditioning\"\n",
    "            #     ],\n",
    "            #     \"listingAttributes\": [\n",
    "            #         \"HasPhotos\"\n",
    "            #     ],\n",
    "            #     \"propertyEstablishedType\": \"Any\",\n",
    "            #     \"minBedrooms\": 0,\n",
    "            #     \"maxBedrooms\": 0,\n",
    "            #     \"minBathrooms\": 0,\n",
    "            #   \"maxBathrooms\": 0,\n",
    "            #     \"minCarspaces\": 0,\n",
    "            #     \"maxCarspaces\": 0,\n",
    "            #     \"minPrice\": 0,\n",
    "            #     \"maxPrice\": 0,\n",
    "            #     \"minLandArea\": 0,\n",
    "            #     \"maxLandArea\": 0,\n",
    "            #     \"advertiserIds\": [\n",
    "            #         0\n",
    "            #     ],\n",
    "            #     \"adIds\": [\n",
    "            #         0\n",
    "            #     ],\n",
    "            #     \"excludeAdIds\": [\n",
    "            #         0\n",
    "            #     ],\n",
    "                \"locations\": [\n",
    "                {\n",
    "                    \"state\": \"ACT\",\n",
    "                    \"region\": \"\",\n",
    "                    \"area\": \"\",\n",
    "                    \"suburb\": suburb,\n",
    "                    \"postCode\": \"\",\n",
    "                    \"includeSurroundingSuburbs\": False\n",
    "                }\n",
    "                ]\n",
    "            #     \"locationTerms\": \"string\",\n",
    "            #     \"keywords\": [\n",
    "            #         \"string\"\n",
    "            #     ],    \n",
    "            #     \"newDevOnly\": true,\n",
    "            #     \"inspectionFrom\": \"2020-02-18T00:15:14.184Z\",\n",
    "            #     \"inspectionTo\": \"2020-02-18T00:15:14.184Z\",\n",
    "            #     \"auctionFrom\": \"2020-02-18T00:15:14.184Z\",\n",
    "            #     \"auctionTo\": \"2020-02-18T00:15:14.184Z\",\n",
    "            #     \"ruralOnly\": true,\n",
    "            #     \"excludePriceWithheld\": true,\n",
    "            #     \"sort\": {\n",
    "            #         \"sortKey\": \"Default\",\n",
    "            #         \"direction\": \"Ascending\",\n",
    "            #         \"proximityTo\": {\n",
    "            #             \"lat\": 0,\n",
    "            #             \"lon\": 0\n",
    "            #         }\n",
    "            #     },\n",
    "            #     \"pageSize\": 0,\n",
    "            #     \"geoWindow\": {\n",
    "            #         \"box\": {\n",
    "            #             \"topLeft\": {\n",
    "            #                 \"lat\": 0,\n",
    "            #                 \"lon\": 0\n",
    "            #             },\n",
    "            #             \"bottomRight\": {\n",
    "            #                 \"lat\": 0,\n",
    "            #                 \"lon\": 0\n",
    "            #             }\n",
    "            #         },\n",
    "            #         \"circle\" : {\n",
    "            #             \"center\": {\n",
    "            #                 \"lat\": 0,\n",
    "            #                 \"lon\": 0\n",
    "            #             },\n",
    "            #             \"radiusInMeters\": 0\n",
    "            #         },\n",
    "            #         \"polygon\": {\n",
    "            #             \"points\": [\n",
    "            #                 {\n",
    "            #                     \"lat\": 0,\n",
    "            #                     \"lon\": 0\n",
    "            #                 }\n",
    "            #             ]\n",
    "            #         }\n",
    "            #     },\n",
    "            #     \"updatedSince\": \"2020-02-18T00:15:14.184Z\"\n",
    "            }\n",
    "\n",
    "            return params"
   ]
  },
  {
   "cell_type": "markdown",
   "metadata": {},
   "source": [
    "I now made a `POST` request to `url2` for each ACT suburb and retrieved the residential listings. Sample response of the `POST` request is shown [here](https://developer.domain.com.au/docs/apis/pkg_agents_listings/references/listings_detailedresidentialsearch). For each listing, I retrieved the following information: \n",
    "\n",
    "* listing type and id\n",
    "* advertiser type, id, and name\n",
    "* display price of the property\n",
    "* property features, type, number of bathrooms, bedrooms, and car spaces\n",
    "* property address such as unit number, street number and name, area, region, suburb, postcode, and GPS coordinates (latitude and longitude)\n",
    "\n",
    "I stored the pulled data as a list of lists."
   ]
  },
  {
   "cell_type": "code",
   "execution_count": null,
   "metadata": {},
   "outputs": [],
   "source": [
    "    listings = []\n",
    "        for suburb in suburbs:\n",
    "\n",
    "            content = requests.post(url=url2, headers=auth, json=payload(suburb)).json()\n",
    "\n",
    "            if content:\n",
    "                for item in content:\n",
    "                        ptype = list(item.keys())[0]\n",
    "                        listing = list(item.keys())[1]\n",
    "                        dict1 = item[listing]\n",
    "\n",
    "                        if isinstance(dict1, dict):\n",
    "                            dict2 = item[listing]['advertiser']\n",
    "                            dict3 = item[listing]['priceDetails']\n",
    "                            dict4 = item[listing]['propertyDetails']\n",
    "\n",
    "                            listings.append(\n",
    "                                [item[ptype], dict1.get('id'),\n",
    "                                dict2.get('type'), dict2.get('id'), dict2.get('name'),\n",
    "                                dict3.get('displayPrice'),\n",
    "                                dict4.get('features'), dict4.get('propertyType'),\n",
    "                                dict4.get('bathrooms', 0), dict4.get('bedrooms', 0), dict4.get('carspaces', 0),\n",
    "                                dict4.get('unitNumber'), dict4.get('streetNumber'), dict4.get('street'),\n",
    "                                dict4.get('area'), dict4.get('region'), dict4.get('suburb'),\n",
    "                                dict4.get('postcode'), dict4.get('latitude'), dict4.get('longitude')] \n",
    "                            )\n",
    "\n",
    "                        elif isinstance(dict1, list):\n",
    "                            for row in dict1:\n",
    "                                dict2 = row['advertiser']\n",
    "                                dict3 = row['priceDetails']\n",
    "                                dict4 = row['propertyDetails']\n",
    "\n",
    "                                listings.append(\n",
    "                                    [item[ptype], row.get('id'),\n",
    "                                    dict2.get('type'), dict2.get('id'), dict2.get('name'),\n",
    "                                    dict3.get('displayPrice'),\n",
    "                                    dict4.get('features'), dict4.get('propertyType'),\n",
    "                                    dict4.get('bathrooms', 0), dict4.get('bedrooms', 0), dict4.get('carspaces', 0),\n",
    "                                    dict4.get('unitNumber'), dict4.get('streetNumber'), dict4.get('street'),\n",
    "                                    dict4.get('area'), dict4.get('region'), dict4.get('suburb'),\n",
    "                                    dict4.get('postcode'), dict4.get('latitude'), dict4.get('longitude')] \n",
    "                                )"
   ]
  },
  {
   "cell_type": "markdown",
   "metadata": {},
   "source": [
    "I converted the list into a `DataFrame` with appropriate column names."
   ]
  },
  {
   "cell_type": "code",
   "execution_count": null,
   "metadata": {},
   "outputs": [],
   "source": [
    "    dataset = pd.DataFrame(listings)\n",
    "        dataset.columns = [\n",
    "            'type', 'id',\n",
    "            'advertiser_type', 'advertiser_id', 'advertiser_name',\n",
    "            'displayPrice',\n",
    "            'propertyFeatures', 'propertyType',\n",
    "            'bathrooms', 'bedrooms', 'carspaces',\n",
    "            'unitNumber', 'streetNumber', 'street',\n",
    "            'area', 'region', 'suburb',\n",
    "            'postcode', 'latitude', 'longitude'\n",
    "        ]"
   ]
  },
  {
   "cell_type": "markdown",
   "metadata": {},
   "source": [
    "I stored the `DataFrame` dataset directly to the folder `dataset` in my S3 bucket as a `csv` file. The filename would show the date and time the data is pulled from the Domain API. "
   ]
  },
  {
   "cell_type": "code",
   "execution_count": null,
   "metadata": {},
   "outputs": [],
   "source": [
    "    now = str(datetime.today())\n",
    "\n",
    "        bucket = 'myactlistings' \n",
    "        csv_buffer = StringIO()\n",
    "        dataset.to_csv(csv_buffer)\n",
    "        s3_resource = boto3.resource('s3')\n",
    "        s3_resource.Object(bucket, 'dataset/{}.csv'.format(now)).put(Body=csv_buffer.getvalue())"
   ]
  }
 ],
 "metadata": {
  "kernelspec": {
   "display_name": "Python 3",
   "language": "python",
   "name": "python3"
  },
  "language_info": {
   "codemirror_mode": {
    "name": "ipython",
    "version": 3
   },
   "file_extension": ".py",
   "mimetype": "text/x-python",
   "name": "python",
   "nbconvert_exporter": "python",
   "pygments_lexer": "ipython3",
   "version": "3.7.3"
  }
 },
 "nbformat": 4,
 "nbformat_minor": 2
}
